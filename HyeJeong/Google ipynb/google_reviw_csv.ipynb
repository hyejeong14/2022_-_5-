{
 "cells": [
  {
   "cell_type": "code",
   "execution_count": 1,
   "metadata": {},
   "outputs": [],
   "source": [
    "import pandas as pd\n",
    "import numpy as np\n",
    "import re"
   ]
  },
  {
   "cell_type": "code",
   "execution_count": 2,
   "metadata": {},
   "outputs": [],
   "source": [
    "def review_csv(filename):\n",
    "    for file in filename:\n",
    "        df = pd.read_csv(file)\n",
    "        df = df.drop(df.columns[[0,1]], axis=1)\n",
    "        df = df[~df['CONTENT'].str.contains(\"KoReAn\", na=False, case=False)]\n",
    "        df['CONTENT'].replace('',np.nan,inplace=True)\n",
    "        df=df.dropna(axis=0)\n",
    "        content_re=[]\n",
    "        for i in df['CONTENT']:\n",
    "            try:\n",
    "                m = re.search('Translated by Google (.+?)  Original ', str(i))\n",
    "                if m:\n",
    "                    m = m.group(1)\n",
    "                    content_re.append(m)\n",
    "                else: \n",
    "                    i = re.sub(\"Translated by Google\",\"\",i)\n",
    "                    content_re.append(i)\n",
    "            except :\n",
    "                content_re.append(i)\n",
    "\n",
    "        df['CONTENT'] = content_re\n",
    "        df = df.reset_index()\n",
    "        df = df.drop(df.columns[[0]], axis=1)\n",
    "            \n",
    "        csv_name = '{}{}'.format('final ',file)\n",
    "        df.to_csv(csv_name)"
   ]
  },
  {
   "cell_type": "code",
   "execution_count": 3,
   "metadata": {},
   "outputs": [],
   "source": [
    "filename = ['Deoksugung review.csv','War Memorial Korea review.csv','National Museum of Korea review.csv']\n",
    "review_csv(filename)"
   ]
  },
  {
   "cell_type": "code",
   "execution_count": null,
   "metadata": {},
   "outputs": [],
   "source": []
  }
 ],
 "metadata": {
  "kernelspec": {
   "display_name": "Python 3",
   "language": "python",
   "name": "python3"
  },
  "language_info": {
   "codemirror_mode": {
    "name": "ipython",
    "version": 3
   },
   "file_extension": ".py",
   "mimetype": "text/x-python",
   "name": "python",
   "nbconvert_exporter": "python",
   "pygments_lexer": "ipython3",
   "version": "3.7.6"
  }
 },
 "nbformat": 4,
 "nbformat_minor": 4
}
