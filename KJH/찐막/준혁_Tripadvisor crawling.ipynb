{
 "cells": [
  {
   "cell_type": "code",
   "execution_count": null,
   "id": "77598d1f",
   "metadata": {},
   "outputs": [],
   "source": [
    "from selenium import webdriver\n",
    "import time\n",
    "from selenium.webdriver.common.by import By\n",
    "from bs4 import BeautifulSoup\n",
    "from selenium.webdriver.common.keys import Keys\n",
    "from selenium.webdriver import ActionChains\n",
    "from selenium.webdriver.support.ui import WebDriverWait\n",
    "from selenium.webdriver.support import expected_conditions as EC\n",
    "import pandas as pd\n",
    "\n",
    "driver = webdriver.Chrome(\"./chromedriver\")\n",
    "\n",
    "driver.get(\"https://www.tripadvisor.com/Tourism-g294197-Seoul-Vacations.html\")\n",
    "\n",
    "# 이름 바꿔서 검색\n",
    "searchbox = driver.find_element(By.CSS_SELECTOR,\"input.qjfqs._G.B-.z._J.Cj.R0\")\n",
    "searchbox.send_keys(\"Insadong Street\")\n",
    "\n",
    "time.sleep(5)\n",
    "check=input('일치하는 장소 선택 후 y를 눌러주세요(이외 멈춤)')\n",
    "if check.upper()=='Y':\n",
    "    now_url=driver.current_url\n",
    "url1=now_url.split(\"-Reviews-\")[0]\n",
    "url2=now_url.split(\"-Reviews-\")[1]\n",
    "\n",
    "reviews = driver.find_elements(By.CSS_SELECTOR,'div._c')\n",
    "name=[]\n",
    "star=[]\n",
    "content=[]\n",
    "date=[]\n",
    "action = ActionChains(driver)\n",
    "page_num=1\n",
    "for i in range(1,364): ##################### 531 대신 (영문 리뷰 수)/10 후 반올림 후 +1 한 수 ###################\n",
    "    reviews = driver.find_elements(By.CSS_SELECTOR,'div._c')\n",
    "    for review in reviews[1:]: #사진 옆 리뷰 있으면 2부터\n",
    "        action.move_to_element(review).perform()\n",
    "        print(\"y\",end=\"\")\n",
    "        name.append(review.find_element(By.CSS_SELECTOR,'a.BMQDV._F.G-.wSSLS.SwZTJ.FGwzt.ukgoS').text)\n",
    "        star.append(float(review.find_element(By.CSS_SELECTOR,'svg.UctUV.d.H0').get_attribute(\"aria-label\")[0:3]))\n",
    "        content.append(review.find_elements(By.CSS_SELECTOR,'span.yCeTE')[1].text.replace(\"\\n\",\" \"))\n",
    "        date.append(review.find_element(By.CSS_SELECTOR,'.biGQs._P.pZUbB.ncFvv.osNWb').text)\n",
    "    page_num+=1\n",
    "    url=url1+\"-Reviews-or{}-\".format(10*i)+url2\n",
    "    driver.get(url)\n",
    "    print(\"|\",end=\"\")\n",
    "    time.sleep(5)\n",
    "\n",
    "\n",
    "all=pd.DataFrame([name,star,content,date],index=['이름','별점','리뷰','날짜']).transpose()\n",
    "print(content)\n",
    "all.to_csv('Insadong Street_tripadvisor.csv')"
   ]
  },
  {
   "cell_type": "code",
   "execution_count": null,
   "id": "7ce0f4e9",
   "metadata": {},
   "outputs": [],
   "source": []
  }
 ],
 "metadata": {
  "kernelspec": {
   "display_name": "Python 3 (ipykernel)",
   "language": "python",
   "name": "python3"
  },
  "language_info": {
   "codemirror_mode": {
    "name": "ipython",
    "version": 3
   },
   "file_extension": ".py",
   "mimetype": "text/x-python",
   "name": "python",
   "nbconvert_exporter": "python",
   "pygments_lexer": "ipython3",
   "version": "3.9.7"
  }
 },
 "nbformat": 4,
 "nbformat_minor": 5
}
