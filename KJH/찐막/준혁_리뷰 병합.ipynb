{
 "cells": [
  {
   "cell_type": "code",
   "execution_count": 1,
   "id": "6efe469e",
   "metadata": {},
   "outputs": [],
   "source": [
    "def hap(g,t,n):\n",
    "    google=pd.read_csv(g)\n",
    "    google=google[['STAR','CONTENT']]\n",
    "    trip=pd.read_csv(t)\n",
    "    trip=trip[['별점','리뷰']]\n",
    "    trip.columns=['STAR','CONTENT']\n",
    "    hap=google.append(trip).reset_index(drop=True)\n",
    "    print(hap)\n",
    "    hap.to_csv(n+'.csv')\n"
   ]
  },
  {
   "cell_type": "code",
   "execution_count": 3,
   "id": "4271ceaf",
   "metadata": {},
   "outputs": [
    {
     "name": "stdout",
     "output_type": "stream",
     "text": [
      "    STAR                                            CONTENT\n",
      "0    5.0   It is a spacious and beautiful place The surr...\n",
      "1    5.0   Although Boramae Park is a large park it is w...\n",
      "2    4.0   It is the largest park in the southwestern pa...\n",
      "3    5.0   I went for a walk after a long time It was go...\n",
      "4    5.0   The weather was drowsy today so I fell asleep...\n",
      "5    5.0                                       awesome park\n",
      "6    4.0  Suitable for cycling walking and meeting frien...\n",
      "7    5.0                                        too crowded\n",
      "8    4.0                                Very beautiful park\n",
      "9    5.0           Oh my god this place is really beautiful\n",
      "10   4.0  There are a lot of people who do exercise on t...\n",
      "11   3.0  Local park with some monuments and a lake You ...\n",
      "12   5.0                      Good Place to Run But Crowded\n",
      "13   5.0                          Real park you can walk on\n",
      "14   5.0  This park is famous park in Seoul The name of ...\n",
      "15   5.0                        It is a great place to walk\n",
      "16   4.0  Lovely show with music at the fountain in the ...\n",
      "17   5.0                                            So good\n",
      "18   4.0  Because of the subway construction a lot of th...\n",
      "19   5.0  Great place to meet people and exercise in thi...\n",
      "20   5.0                                                 ok\n",
      "21   4.0  Pretty nice little park There is a foot care w...\n",
      "22   4.0  This is very quit & calm place to spend time w...\n",
      "23   4.0  This park is very varied and therefore caters ...\n",
      "24   4.0  The tranquil atmosphere, the park was so clean...\n",
      "25   4.0  There are plenty of things to do here: basketb...\n",
      "26   4.0  It's common knowledge that swish lift systems ...\n",
      "27   5.0  There are many recreational areas, including b...\n"
     ]
    }
   ],
   "source": [
    "import pandas as pd\n",
    "hap(\"C:/Users/wndgm/final Boramae Park review.csv\",\n",
    "    \"C:/Users/wndgm/Boramae Park_tripadvisor.csv\",\n",
    "    'Boramae Park')"
   ]
  }
 ],
 "metadata": {
  "kernelspec": {
   "display_name": "Python 3 (ipykernel)",
   "language": "python",
   "name": "python3"
  },
  "language_info": {
   "codemirror_mode": {
    "name": "ipython",
    "version": 3
   },
   "file_extension": ".py",
   "mimetype": "text/x-python",
   "name": "python",
   "nbconvert_exporter": "python",
   "pygments_lexer": "ipython3",
   "version": "3.9.7"
  }
 },
 "nbformat": 4,
 "nbformat_minor": 5
}
