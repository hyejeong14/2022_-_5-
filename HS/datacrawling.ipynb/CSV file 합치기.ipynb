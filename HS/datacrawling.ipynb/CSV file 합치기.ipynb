{
 "cells": [
  {
   "cell_type": "code",
   "execution_count": 4,
   "id": "13802f39",
   "metadata": {},
   "outputs": [],
   "source": [
    "import pandas as pd"
   ]
  },
  {
   "cell_type": "code",
   "execution_count": 14,
   "id": "2a5b2d54",
   "metadata": {},
   "outputs": [],
   "source": [
    "def hap(g,t,n):\n",
    "    google=pd.read_csv(g)\n",
    "    google=google[['STAR','CONTENT']]\n",
    "    trip=pd.read_csv(t,encoding='UTF-8')\n",
    "    trip=trip[['별점','리뷰']]\n",
    "    trip.columns=['STAR','CONTENT']\n",
    "    hap=google.append(trip).reset_index(drop=True)\n",
    "    print(hap)\n",
    "    hap.to_csv(n+'.csv')"
   ]
  },
  {
   "cell_type": "code",
   "execution_count": 16,
   "id": "fa5f7de1",
   "metadata": {},
   "outputs": [
    {
     "name": "stdout",
     "output_type": "stream",
     "text": [
      "     STAR                                            CONTENT\n",
      "0     4.0  Shopping heaven but not many signboard for dir...\n",
      "1     5.0   Namdaemun is often used because of its variet...\n",
      "2     4.0   There are many things to see and it is good C...\n",
      "3     3.0   It is a traditional market for a long time an...\n",
      "4     5.0   Its always good to walk It has a wide variety...\n",
      "..    ...                                                ...\n",
      "709   4.0  A traditional market with lots of clothes, bag...\n",
      "710   5.0  If you don't enjoy crowded places, avoid the m...\n",
      "711   4.0  They seemed to have some more traditional food...\n",
      "712   5.0  Like nothing I have ever experience before. Wo...\n",
      "713   4.0  Namdaemun Market is just a few blocks from Mye...\n",
      "\n",
      "[714 rows x 2 columns]\n"
     ]
    },
    {
     "name": "stderr",
     "output_type": "stream",
     "text": [
      "C:\\Users\\LG-PC\\AppData\\Local\\Temp\\ipykernel_31860\\3853713552.py:7: FutureWarning: The frame.append method is deprecated and will be removed from pandas in a future version. Use pandas.concat instead.\n",
      "  hap=google.append(trip).reset_index(drop=True)\n"
     ]
    }
   ],
   "source": [
    "hap(\"C:/Users/LG-PC/Documents/GitHub/2022_DATA_TEAM5/HS/data/google/Namdaemun Market_Google.csv\",\n",
    "    \"C:/Users/LG-PC/Documents/GitHub/2022_DATA_TEAM5/HS/data/tripadvisor/Namdaemun Market_Tripadvisor.csv\",'Namdaemun Market.csv')"
   ]
  }
 ],
 "metadata": {
  "kernelspec": {
   "display_name": "Python 3 (ipykernel)",
   "language": "python",
   "name": "python3"
  },
  "language_info": {
   "codemirror_mode": {
    "name": "ipython",
    "version": 3
   },
   "file_extension": ".py",
   "mimetype": "text/x-python",
   "name": "python",
   "nbconvert_exporter": "python",
   "pygments_lexer": "ipython3",
   "version": "3.10.4"
  }
 },
 "nbformat": 4,
 "nbformat_minor": 5
}
