{
 "cells": [
  {
   "cell_type": "code",
   "execution_count": 1,
   "metadata": {},
   "outputs": [],
   "source": [
    "\n",
    "import pandas as pd\n",
    "from googletrans import Translator"
   ]
  },
  {
   "cell_type": "code",
   "execution_count": 2,
   "metadata": {},
   "outputs": [
    {
     "name": "stdout",
     "output_type": "stream",
     "text": [
      "Index(['Unnamed: 0.1', 'index', 'Unnamed: 0', '서울대공원부정단어리뷰', 'index.1', '단어'], dtype='object')\n"
     ]
    }
   ],
   "source": [
    "result1=[]\n",
    "df=pd.read_csv('C:/Users/gkxmr/토픽4부정키워드리뷰/토픽4_타임스퀘어부정.csv')\n",
    "print(df.columns)"
   ]
  },
  {
   "cell_type": "code",
   "execution_count": 3,
   "metadata": {},
   "outputs": [
    {
     "data": {
      "text/html": [
       "<div>\n",
       "<style scoped>\n",
       "    .dataframe tbody tr th:only-of-type {\n",
       "        vertical-align: middle;\n",
       "    }\n",
       "\n",
       "    .dataframe tbody tr th {\n",
       "        vertical-align: top;\n",
       "    }\n",
       "\n",
       "    .dataframe thead th {\n",
       "        text-align: right;\n",
       "    }\n",
       "</style>\n",
       "<table border=\"1\" class=\"dataframe\">\n",
       "  <thead>\n",
       "    <tr style=\"text-align: right;\">\n",
       "      <th></th>\n",
       "      <th>Unnamed: 0.1</th>\n",
       "      <th>index</th>\n",
       "      <th>Unnamed: 0</th>\n",
       "      <th>서울대공원부정단어리뷰</th>\n",
       "      <th>index.1</th>\n",
       "      <th>단어</th>\n",
       "    </tr>\n",
       "  </thead>\n",
       "  <tbody>\n",
       "    <tr>\n",
       "      <th>0</th>\n",
       "      <td>0</td>\n",
       "      <td>0</td>\n",
       "      <td>34</td>\n",
       "      <td>If you're staying in the heart of the city in ...</td>\n",
       "      <td>0</td>\n",
       "      <td>took</td>\n",
       "    </tr>\n",
       "    <tr>\n",
       "      <th>1</th>\n",
       "      <td>1</td>\n",
       "      <td>1</td>\n",
       "      <td>51</td>\n",
       "      <td>Read about this new largest mall in Seoul, so ...</td>\n",
       "      <td>1</td>\n",
       "      <td>took</td>\n",
       "    </tr>\n",
       "    <tr>\n",
       "      <th>2</th>\n",
       "      <td>2</td>\n",
       "      <td>0</td>\n",
       "      <td>34</td>\n",
       "      <td>If you're staying in the heart of the city in ...</td>\n",
       "      <td>2</td>\n",
       "      <td>minutes</td>\n",
       "    </tr>\n",
       "    <tr>\n",
       "      <th>3</th>\n",
       "      <td>3</td>\n",
       "      <td>1</td>\n",
       "      <td>51</td>\n",
       "      <td>Read about this new largest mall in Seoul, so ...</td>\n",
       "      <td>3</td>\n",
       "      <td>minutes</td>\n",
       "    </tr>\n",
       "  </tbody>\n",
       "</table>\n",
       "</div>"
      ],
      "text/plain": [
       "   Unnamed: 0.1  index  Unnamed: 0  \\\n",
       "0             0      0          34   \n",
       "1             1      1          51   \n",
       "2             2      0          34   \n",
       "3             3      1          51   \n",
       "\n",
       "                                         서울대공원부정단어리뷰  index.1       단어  \n",
       "0  If you're staying in the heart of the city in ...        0     took  \n",
       "1  Read about this new largest mall in Seoul, so ...        1     took  \n",
       "2  If you're staying in the heart of the city in ...        2  minutes  \n",
       "3  Read about this new largest mall in Seoul, so ...        3  minutes  "
      ]
     },
     "execution_count": 3,
     "metadata": {},
     "output_type": "execute_result"
    }
   ],
   "source": [
    "df"
   ]
  },
  {
   "cell_type": "code",
   "execution_count": 4,
   "metadata": {},
   "outputs": [],
   "source": [
    "translator=Translator()\n",
    "for i in df.index:\n",
    "    result=translator.translate(df.iloc[:,3][i],dest='ko')\n",
    "    result1.append(result.text)"
   ]
  },
  {
   "cell_type": "code",
   "execution_count": 5,
   "metadata": {},
   "outputs": [
    {
     "name": "stdout",
     "output_type": "stream",
     "text": [
      "['서울 도심에 머물고 있다면 이 쇼핑몰에 가지 말고 코엑스몰로 가세요. 이 쇼핑몰은 평점이 더 높았고 택시로 40분이 걸렸습니다.', '서울에서 가장 큰 이 새로운 쇼핑몰에 대해 읽어보고 확인하기로 결정했습니다. 시청역에서 한국철도/지하철로 25분 정도 소요되었습니다. 메인 앵커 세입자는 시세계이며 영등포역에서 나오면 길 건너 가장 먼저 눈에 띄는 건물입니다. 그것은 직접 연결되어 있지 않기 때문에 (적어도 나는 지하 링크를 찾을 수 없었습니다) 비가 올 때 역을 오가는 것이 어려울 수 있습니다. 또한 날씨가 좋은 날 앉아서 간단한 점심을 먹을 수 있는 대형 생태공원이 있습니다. 나는 식료품과 맥주부터 자동차 액세서리와 홈 린넨에 이르기까지 모든 것을 판매하는 지하 2층에 걸쳐 있는 거대한 이마트 매장이 마음에 들었습니다. Charles & Keith 및 H&M과 같은 하이 스트리트 매장뿐만 아니라 LV 및 Coach와 같은 모든 쇼핑몰에서 찾을 수 있는 일반적인 브랜드 이름도 있습니다. 배가 고프면 국경 남쪽에서 멕시코 음식을, 롯데리아와 KFC의 햄버거, 일본 라면과 베트남 국수 등을 먹을 수 있습니다. 나는 이마트와 가까운 끝에 애완 동물과 꽃 가게를 방문하는 것을 즐겼습니다. 여기에는 몇 마리의 강아지가 판매되었습니다. 앞서 말했듯이 시내에서 꽤 떨어져 있지만 영등포 거리를 돌아다니며 현지인들의 일상을 살펴보는 것으로 하루를 보낼 수 있습니다.', '서울 도심에 머물고 있다면 이 쇼핑몰에 가지 말고 코엑스몰로 가세요. 이 쇼핑몰은 평점이 더 높았고 택시로 40분이 걸렸습니다.', '서울에서 가장 큰 이 새로운 쇼핑몰에 대해 읽어보고 확인하기로 결정했습니다. 시청역에서 한국철도/지하철로 25분 정도 소요되었습니다. 메인 앵커 세입자는 시세계이며 영등포역에서 나오면 길 건너 가장 먼저 눈에 띄는 건물입니다. 그것은 직접 연결되어 있지 않기 때문에 (적어도 나는 지하 링크를 찾을 수 없었습니다) 비가 올 때 역을 오가는 것이 어려울 수 있습니다. 또한 날씨가 좋은 날 앉아서 간단한 점심을 먹을 수 있는 대형 생태공원이 있습니다. 나는 식료품과 맥주부터 자동차 액세서리와 홈 린넨에 이르기까지 모든 것을 판매하는 지하 2층에 걸쳐 있는 거대한 이마트 매장이 마음에 들었습니다. Charles & Keith 및 H&M과 같은 하이 스트리트 매장뿐만 아니라 LV 및 Coach와 같은 모든 쇼핑몰에서 찾을 수 있는 일반적인 브랜드 이름도 있습니다. 배가 고프면 국경 남쪽에서 멕시코 음식을, 롯데리아와 KFC의 햄버거, 일본 라면과 베트남 국수 등을 먹을 수 있습니다. 나는 이마트와 가까운 끝에 애완 동물과 꽃 가게를 방문하는 것을 즐겼습니다. 여기에는 몇 마리의 강아지가 판매되었습니다. 앞서 말했듯이 시내에서 꽤 떨어져 있지만 영등포 거리를 돌아다니며 현지인들의 일상을 살펴보는 것으로 하루를 보낼 수 있습니다.']\n"
     ]
    }
   ],
   "source": [
    "print(result1)"
   ]
  },
  {
   "cell_type": "code",
   "execution_count": 6,
   "metadata": {},
   "outputs": [],
   "source": [
    "save=pd.DataFrame({'번역':result1})"
   ]
  },
  {
   "cell_type": "code",
   "execution_count": 7,
   "metadata": {},
   "outputs": [
    {
     "data": {
      "text/html": [
       "<div>\n",
       "<style scoped>\n",
       "    .dataframe tbody tr th:only-of-type {\n",
       "        vertical-align: middle;\n",
       "    }\n",
       "\n",
       "    .dataframe tbody tr th {\n",
       "        vertical-align: top;\n",
       "    }\n",
       "\n",
       "    .dataframe thead th {\n",
       "        text-align: right;\n",
       "    }\n",
       "</style>\n",
       "<table border=\"1\" class=\"dataframe\">\n",
       "  <thead>\n",
       "    <tr style=\"text-align: right;\">\n",
       "      <th></th>\n",
       "      <th>번역</th>\n",
       "    </tr>\n",
       "  </thead>\n",
       "  <tbody>\n",
       "    <tr>\n",
       "      <th>0</th>\n",
       "      <td>서울 도심에 머물고 있다면 이 쇼핑몰에 가지 말고 코엑스몰로 가세요. 이 쇼핑몰은 ...</td>\n",
       "    </tr>\n",
       "    <tr>\n",
       "      <th>1</th>\n",
       "      <td>서울에서 가장 큰 이 새로운 쇼핑몰에 대해 읽어보고 확인하기로 결정했습니다. 시청역...</td>\n",
       "    </tr>\n",
       "    <tr>\n",
       "      <th>2</th>\n",
       "      <td>서울 도심에 머물고 있다면 이 쇼핑몰에 가지 말고 코엑스몰로 가세요. 이 쇼핑몰은 ...</td>\n",
       "    </tr>\n",
       "    <tr>\n",
       "      <th>3</th>\n",
       "      <td>서울에서 가장 큰 이 새로운 쇼핑몰에 대해 읽어보고 확인하기로 결정했습니다. 시청역...</td>\n",
       "    </tr>\n",
       "  </tbody>\n",
       "</table>\n",
       "</div>"
      ],
      "text/plain": [
       "                                                  번역\n",
       "0  서울 도심에 머물고 있다면 이 쇼핑몰에 가지 말고 코엑스몰로 가세요. 이 쇼핑몰은 ...\n",
       "1  서울에서 가장 큰 이 새로운 쇼핑몰에 대해 읽어보고 확인하기로 결정했습니다. 시청역...\n",
       "2  서울 도심에 머물고 있다면 이 쇼핑몰에 가지 말고 코엑스몰로 가세요. 이 쇼핑몰은 ...\n",
       "3  서울에서 가장 큰 이 새로운 쇼핑몰에 대해 읽어보고 확인하기로 결정했습니다. 시청역..."
      ]
     },
     "execution_count": 7,
     "metadata": {},
     "output_type": "execute_result"
    }
   ],
   "source": [
    "save"
   ]
  },
  {
   "cell_type": "code",
   "execution_count": 8,
   "metadata": {},
   "outputs": [],
   "source": [
    "fi=pd.concat([df,save],axis=1)"
   ]
  },
  {
   "cell_type": "code",
   "execution_count": 9,
   "metadata": {},
   "outputs": [
    {
     "data": {
      "text/html": [
       "<div>\n",
       "<style scoped>\n",
       "    .dataframe tbody tr th:only-of-type {\n",
       "        vertical-align: middle;\n",
       "    }\n",
       "\n",
       "    .dataframe tbody tr th {\n",
       "        vertical-align: top;\n",
       "    }\n",
       "\n",
       "    .dataframe thead th {\n",
       "        text-align: right;\n",
       "    }\n",
       "</style>\n",
       "<table border=\"1\" class=\"dataframe\">\n",
       "  <thead>\n",
       "    <tr style=\"text-align: right;\">\n",
       "      <th></th>\n",
       "      <th>Unnamed: 0.1</th>\n",
       "      <th>index</th>\n",
       "      <th>Unnamed: 0</th>\n",
       "      <th>서울대공원부정단어리뷰</th>\n",
       "      <th>index.1</th>\n",
       "      <th>단어</th>\n",
       "      <th>번역</th>\n",
       "    </tr>\n",
       "  </thead>\n",
       "  <tbody>\n",
       "    <tr>\n",
       "      <th>0</th>\n",
       "      <td>0</td>\n",
       "      <td>0</td>\n",
       "      <td>34</td>\n",
       "      <td>If you're staying in the heart of the city in ...</td>\n",
       "      <td>0</td>\n",
       "      <td>took</td>\n",
       "      <td>서울 도심에 머물고 있다면 이 쇼핑몰에 가지 말고 코엑스몰로 가세요. 이 쇼핑몰은 ...</td>\n",
       "    </tr>\n",
       "    <tr>\n",
       "      <th>1</th>\n",
       "      <td>1</td>\n",
       "      <td>1</td>\n",
       "      <td>51</td>\n",
       "      <td>Read about this new largest mall in Seoul, so ...</td>\n",
       "      <td>1</td>\n",
       "      <td>took</td>\n",
       "      <td>서울에서 가장 큰 이 새로운 쇼핑몰에 대해 읽어보고 확인하기로 결정했습니다. 시청역...</td>\n",
       "    </tr>\n",
       "    <tr>\n",
       "      <th>2</th>\n",
       "      <td>2</td>\n",
       "      <td>0</td>\n",
       "      <td>34</td>\n",
       "      <td>If you're staying in the heart of the city in ...</td>\n",
       "      <td>2</td>\n",
       "      <td>minutes</td>\n",
       "      <td>서울 도심에 머물고 있다면 이 쇼핑몰에 가지 말고 코엑스몰로 가세요. 이 쇼핑몰은 ...</td>\n",
       "    </tr>\n",
       "    <tr>\n",
       "      <th>3</th>\n",
       "      <td>3</td>\n",
       "      <td>1</td>\n",
       "      <td>51</td>\n",
       "      <td>Read about this new largest mall in Seoul, so ...</td>\n",
       "      <td>3</td>\n",
       "      <td>minutes</td>\n",
       "      <td>서울에서 가장 큰 이 새로운 쇼핑몰에 대해 읽어보고 확인하기로 결정했습니다. 시청역...</td>\n",
       "    </tr>\n",
       "  </tbody>\n",
       "</table>\n",
       "</div>"
      ],
      "text/plain": [
       "   Unnamed: 0.1  index  Unnamed: 0  \\\n",
       "0             0      0          34   \n",
       "1             1      1          51   \n",
       "2             2      0          34   \n",
       "3             3      1          51   \n",
       "\n",
       "                                         서울대공원부정단어리뷰  index.1       단어  \\\n",
       "0  If you're staying in the heart of the city in ...        0     took   \n",
       "1  Read about this new largest mall in Seoul, so ...        1     took   \n",
       "2  If you're staying in the heart of the city in ...        2  minutes   \n",
       "3  Read about this new largest mall in Seoul, so ...        3  minutes   \n",
       "\n",
       "                                                  번역  \n",
       "0  서울 도심에 머물고 있다면 이 쇼핑몰에 가지 말고 코엑스몰로 가세요. 이 쇼핑몰은 ...  \n",
       "1  서울에서 가장 큰 이 새로운 쇼핑몰에 대해 읽어보고 확인하기로 결정했습니다. 시청역...  \n",
       "2  서울 도심에 머물고 있다면 이 쇼핑몰에 가지 말고 코엑스몰로 가세요. 이 쇼핑몰은 ...  \n",
       "3  서울에서 가장 큰 이 새로운 쇼핑몰에 대해 읽어보고 확인하기로 결정했습니다. 시청역...  "
      ]
     },
     "execution_count": 9,
     "metadata": {},
     "output_type": "execute_result"
    }
   ],
   "source": [
    "fi"
   ]
  },
  {
   "cell_type": "code",
   "execution_count": 11,
   "metadata": {},
   "outputs": [],
   "source": [
    "fi.to_csv('토픽4ㅌ타임스퀘어.csv')"
   ]
  },
  {
   "cell_type": "code",
   "execution_count": null,
   "metadata": {},
   "outputs": [],
   "source": []
  },
  {
   "cell_type": "code",
   "execution_count": null,
   "metadata": {},
   "outputs": [],
   "source": []
  },
  {
   "cell_type": "code",
   "execution_count": null,
   "metadata": {},
   "outputs": [],
   "source": []
  }
 ],
 "metadata": {
  "kernelspec": {
   "display_name": "Python 3",
   "language": "python",
   "name": "python3"
  },
  "language_info": {
   "codemirror_mode": {
    "name": "ipython",
    "version": 3
   },
   "file_extension": ".py",
   "mimetype": "text/x-python",
   "name": "python",
   "nbconvert_exporter": "python",
   "pygments_lexer": "ipython3",
   "version": "3.8.3"
  }
 },
 "nbformat": 4,
 "nbformat_minor": 4
}
