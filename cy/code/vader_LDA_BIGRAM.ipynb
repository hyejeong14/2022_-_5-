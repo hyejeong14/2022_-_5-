{
 "cells": [
  {
   "cell_type": "code",
   "execution_count": 322,
   "metadata": {},
   "outputs": [
    {
     "name": "stderr",
     "output_type": "stream",
     "text": [
      "[nltk_data] Downloading package vader_lexicon to\n",
      "[nltk_data]     C:\\Users\\gkxmr\\AppData\\Roaming\\nltk_data...\n",
      "[nltk_data]   Package vader_lexicon is already up-to-date!\n"
     ]
    }
   ],
   "source": [
    "import nltk\n",
    "import pandas as pd\n",
    "import re\n",
    "import numpy as np\n",
    "import matplotlib.pyplot as plt\n",
    "nltk.download('vader_lexicon')\n",
    "from nltk.sentiment.vader import SentimentIntensityAnalyzer"
   ]
  },
  {
   "cell_type": "code",
   "execution_count": 323,
   "metadata": {},
   "outputs": [],
   "source": [
    "df1=pd.read_csv('C:/Users/gkxmr/정리/go_Shinsegye.csv')"
   ]
  },
  {
   "cell_type": "code",
   "execution_count": 324,
   "metadata": {},
   "outputs": [
    {
     "data": {
      "text/html": [
       "<div>\n",
       "<style scoped>\n",
       "    .dataframe tbody tr th:only-of-type {\n",
       "        vertical-align: middle;\n",
       "    }\n",
       "\n",
       "    .dataframe tbody tr th {\n",
       "        vertical-align: top;\n",
       "    }\n",
       "\n",
       "    .dataframe thead th {\n",
       "        text-align: right;\n",
       "    }\n",
       "</style>\n",
       "<table border=\"1\" class=\"dataframe\">\n",
       "  <thead>\n",
       "    <tr style=\"text-align: right;\">\n",
       "      <th></th>\n",
       "      <th>index</th>\n",
       "      <th>Unnamed: 0</th>\n",
       "      <th>이름</th>\n",
       "      <th>별점</th>\n",
       "      <th>리뷰</th>\n",
       "      <th>날짜</th>\n",
       "    </tr>\n",
       "  </thead>\n",
       "  <tbody>\n",
       "    <tr>\n",
       "      <th>0</th>\n",
       "      <td>1</td>\n",
       "      <td>1</td>\n",
       "      <td>Insu Park</td>\n",
       "      <td>5</td>\n",
       "      <td>Very good department store</td>\n",
       "      <td>12 hours ago</td>\n",
       "    </tr>\n",
       "    <tr>\n",
       "      <th>1</th>\n",
       "      <td>5</td>\n",
       "      <td>5</td>\n",
       "      <td>전명환</td>\n",
       "      <td>5</td>\n",
       "      <td>Orangutan level</td>\n",
       "      <td>a day ago</td>\n",
       "    </tr>\n",
       "    <tr>\n",
       "      <th>2</th>\n",
       "      <td>9</td>\n",
       "      <td>9</td>\n",
       "      <td>Seon uk Kim</td>\n",
       "      <td>5</td>\n",
       "      <td>I like Shinsegae Headquarters</td>\n",
       "      <td>3 days ago</td>\n",
       "    </tr>\n",
       "    <tr>\n",
       "      <th>3</th>\n",
       "      <td>16</td>\n",
       "      <td>16</td>\n",
       "      <td>Beeny Bark</td>\n",
       "      <td>5</td>\n",
       "      <td>amazing</td>\n",
       "      <td>6 days ago</td>\n",
       "    </tr>\n",
       "    <tr>\n",
       "      <th>4</th>\n",
       "      <td>23</td>\n",
       "      <td>23</td>\n",
       "      <td>장기철</td>\n",
       "      <td>3</td>\n",
       "      <td>Was it in front of the central staircase in th...</td>\n",
       "      <td>a week ago</td>\n",
       "    </tr>\n",
       "    <tr>\n",
       "      <th>...</th>\n",
       "      <td>...</td>\n",
       "      <td>...</td>\n",
       "      <td>...</td>\n",
       "      <td>...</td>\n",
       "      <td>...</td>\n",
       "      <td>...</td>\n",
       "    </tr>\n",
       "    <tr>\n",
       "      <th>372</th>\n",
       "      <td>911</td>\n",
       "      <td>911</td>\n",
       "      <td>엑기스</td>\n",
       "      <td>5</td>\n",
       "      <td>It is conveniently connected directly from Exi...</td>\n",
       "      <td>8 months ago</td>\n",
       "    </tr>\n",
       "    <tr>\n",
       "      <th>373</th>\n",
       "      <td>914</td>\n",
       "      <td>914</td>\n",
       "      <td>Aung Ko</td>\n",
       "      <td>5</td>\n",
       "      <td>Very beautiful</td>\n",
       "      <td>8 months ago</td>\n",
       "    </tr>\n",
       "    <tr>\n",
       "      <th>374</th>\n",
       "      <td>915</td>\n",
       "      <td>915</td>\n",
       "      <td>김성수</td>\n",
       "      <td>4</td>\n",
       "      <td>Good Best department store</td>\n",
       "      <td>8 months ago</td>\n",
       "    </tr>\n",
       "    <tr>\n",
       "      <th>375</th>\n",
       "      <td>916</td>\n",
       "      <td>916</td>\n",
       "      <td>김석현</td>\n",
       "      <td>5</td>\n",
       "      <td>visit with parents I have to make a lot of mon...</td>\n",
       "      <td>8 months ago</td>\n",
       "    </tr>\n",
       "    <tr>\n",
       "      <th>376</th>\n",
       "      <td>917</td>\n",
       "      <td>917</td>\n",
       "      <td>이호남</td>\n",
       "      <td>5</td>\n",
       "      <td>Merry Christmas</td>\n",
       "      <td>8 months ago</td>\n",
       "    </tr>\n",
       "  </tbody>\n",
       "</table>\n",
       "<p>377 rows × 6 columns</p>\n",
       "</div>"
      ],
      "text/plain": [
       "     index  Unnamed: 0           이름  별점  \\\n",
       "0        1           1    Insu Park   5   \n",
       "1        5           5          전명환   5   \n",
       "2        9           9  Seon uk Kim   5   \n",
       "3       16          16   Beeny Bark   5   \n",
       "4       23          23          장기철   3   \n",
       "..     ...         ...          ...  ..   \n",
       "372    911         911          엑기스   5   \n",
       "373    914         914      Aung Ko   5   \n",
       "374    915         915          김성수   4   \n",
       "375    916         916          김석현   5   \n",
       "376    917         917          이호남   5   \n",
       "\n",
       "                                                    리뷰            날짜  \n",
       "0                           Very good department store  12 hours ago  \n",
       "1                                      Orangutan level     a day ago  \n",
       "2                        I like Shinsegae Headquarters    3 days ago  \n",
       "3                                              amazing    6 days ago  \n",
       "4    Was it in front of the central staircase in th...    a week ago  \n",
       "..                                                 ...           ...  \n",
       "372  It is conveniently connected directly from Exi...  8 months ago  \n",
       "373                                     Very beautiful  8 months ago  \n",
       "374                         Good Best department store  8 months ago  \n",
       "375  visit with parents I have to make a lot of mon...  8 months ago  \n",
       "376                                    Merry Christmas  8 months ago  \n",
       "\n",
       "[377 rows x 6 columns]"
      ]
     },
     "execution_count": 324,
     "metadata": {},
     "output_type": "execute_result"
    }
   ],
   "source": [
    "df1"
   ]
  },
  {
   "cell_type": "code",
   "execution_count": 325,
   "metadata": {},
   "outputs": [
    {
     "name": "stdout",
     "output_type": "stream",
     "text": [
      "212\n",
      "66\n"
     ]
    }
   ],
   "source": [
    "senti_analyzer = SentimentIntensityAnalyzer()\n",
    "list_pos=[]\n",
    "list_neg=[]\n",
    "\n",
    "for i in df1.index:\n",
    "    senti_scores = senti_analyzer.polarity_scores(df1['리뷰'][i])\n",
    "    if senti_scores['compound'] >0.05 and df1['별점'][i] >= 4 :\n",
    "        list_pos.append(df1['리뷰'][i])\n",
    "        #print()\n",
    "        #print(len(list_pos))\n",
    "    \n",
    "    elif senti_scores['compound']<= -0.05 or df1['별점'][i] <4:\n",
    "        list_neg.append(df1['리뷰'][i])\n",
    "        #print()\n",
    "        #print(len(list_neg))\n",
    "    #print(senti_scores, \" \",i)\n",
    "print(len(list_pos))\n",
    "print(len(list_neg))"
   ]
  },
  {
   "cell_type": "code",
   "execution_count": 326,
   "metadata": {},
   "outputs": [
    {
     "name": "stdout",
     "output_type": "stream",
     "text": [
      "0                             Very good department store\n",
      "1                          I like Shinsegae Headquarters\n",
      "2                                                amazing\n",
      "3                                                be kind\n",
      "4                                     Im glad youre kind\n",
      "                             ...                        \n",
      "207    It is conveniently connected directly from Exi...\n",
      "208                                       Very beautiful\n",
      "209                           Good Best department store\n",
      "210    visit with parents I have to make a lot of mon...\n",
      "211                                      Merry Christmas\n",
      "Name: POS, Length: 212, dtype: object\n"
     ]
    }
   ],
   "source": [
    "df_p=pd.DataFrame({'POS':list_pos})\n",
    "df_n=pd.DataFrame({'NEG':list_neg})\n",
    "print( df_p.iloc[:,0])"
   ]
  },
  {
   "cell_type": "code",
   "execution_count": 327,
   "metadata": {},
   "outputs": [
    {
     "name": "stdout",
     "output_type": "stream",
     "text": [
      "showing info https://raw.githubusercontent.com/nltk/nltk_data/gh-pages/index.xml\n"
     ]
    },
    {
     "name": "stderr",
     "output_type": "stream",
     "text": [
      "[nltk_data] Downloading package stopwords to\n",
      "[nltk_data]     C:\\Users\\gkxmr\\AppData\\Roaming\\nltk_data...\n",
      "[nltk_data]   Package stopwords is already up-to-date!\n",
      "[nltk_data] Downloading package punkt to\n",
      "[nltk_data]     C:\\Users\\gkxmr\\AppData\\Roaming\\nltk_data...\n",
      "[nltk_data]   Package punkt is already up-to-date!\n",
      "[nltk_data] Downloading package wordnet to\n",
      "[nltk_data]     C:\\Users\\gkxmr\\AppData\\Roaming\\nltk_data...\n",
      "[nltk_data]   Package wordnet is already up-to-date!\n"
     ]
    },
    {
     "data": {
      "text/plain": [
       "True"
      ]
     },
     "execution_count": 327,
     "metadata": {},
     "output_type": "execute_result"
    }
   ],
   "source": [
    "import nltk\n",
    "nltk.download()\n",
    "from nltk.corpus import stopwords\n",
    "from nltk.tokenize import word_tokenize \n",
    "\n",
    "nltk.download('stopwords')\n",
    "nltk.download('punkt')\n",
    "nltk.download('wordnet')"
   ]
  },
  {
   "cell_type": "code",
   "execution_count": 337,
   "metadata": {},
   "outputs": [
    {
     "data": {
      "text/plain": [
       "'review_str[:500]\\nfor i in review_str:\\n    i=stemmer.stem(i)'"
      ]
     },
     "execution_count": 337,
     "metadata": {},
     "output_type": "execute_result"
    }
   ],
   "source": [
    "from nltk.stem import LancasterStemmer\n",
    "stemmer = LancasterStemmer()\n",
    "#워드카운트를 위해 String 형태로 전환\n",
    "review_str= ' '.join(list(df_p['POS'])).lower()\n",
    "'''review_str[:500]\n",
    "for i in review_str:\n",
    "    i=stemmer.stem(i)'''"
   ]
  },
  {
   "cell_type": "code",
   "execution_count": 338,
   "metadata": {},
   "outputs": [
    {
     "data": {
      "text/plain": [
       "['i', 'me', 'my', 'myself', 'we', 'our', 'ours', 'ourselves', 'you', \"you're\"]"
      ]
     },
     "execution_count": 338,
     "metadata": {},
     "output_type": "execute_result"
    }
   ],
   "source": [
    "stop_words = set(stopwords.words('english'))\n",
    "add_stop_words = [\"'\", \",\", \"'s\", \":\", \".\", \"?\", \"!\",\"(\",\")\",\"n't\"]\n",
    "for word in add_stop_words:\n",
    "    stop_words.add(word)\n",
    "stopwords.words('english')[:10]"
   ]
  },
  {
   "cell_type": "code",
   "execution_count": 339,
   "metadata": {},
   "outputs": [],
   "source": [
    "#리뷰들을 토큰화 & 불용어제거\n",
    "word_tokens = word_tokenize(review_str)\n",
    "review_list = [] #리스트 형태 하나와 \n",
    "review = '' #스트링 형태 하나를 만듦.\n",
    "#for w in word_tokens: \n",
    "for w in word_tokens:\n",
    "    if w not in stop_words: \n",
    "        review_list.append(w)\n",
    "        review = review + ' ' + w"
   ]
  },
  {
   "cell_type": "code",
   "execution_count": 340,
   "metadata": {},
   "outputs": [
    {
     "name": "stdout",
     "output_type": "stream",
     "text": [
      "불용어 개수 :  189\n",
      "불용어 처리 전 :  15055\n",
      "불용어 처리 후 :  1525\n",
      "불용어 처리로 약  89.9 % 감소\n"
     ]
    }
   ],
   "source": [
    "print(\"불용어 개수 : \", len(stop_words))\n",
    "print(\"불용어 처리 전 : \", len(review_str))\n",
    "print(\"불용어 처리 후 : \", len(review_list))\n",
    "print(\"불용어 처리로 약 \", round(100-len(review_list)/len(review_str)*100, 1),\"% 감소\")"
   ]
  },
  {
   "cell_type": "code",
   "execution_count": 342,
   "metadata": {},
   "outputs": [
    {
     "name": "stdout",
     "output_type": "stream",
     "text": [
      "(department, store)        28\n",
      "(main, store)               7\n",
      "(take, picture)             7\n",
      "(shinsegae, department)     7\n",
      "(night, view)               6\n",
      "(many, people)              6\n",
      "(end, year)                 5\n",
      "(best, department)          5\n",
      "(staff, friendly)           4\n",
      "(magical, holiday)          4\n",
      "(easy, park)                3\n",
      "(store, main)               3\n",
      "dtype: int64\n"
     ]
    },
    {
     "name": "stderr",
     "output_type": "stream",
     "text": [
      "<ipython-input-342-c5cf4350cfcd>:2: DeprecationWarning: The default dtype for empty Series will be 'object' instead of 'float64' in a future version. Specify a dtype explicitly to silence this warning.\n",
      "  new=pd.Series()\n"
     ]
    },
    {
     "data": {
      "image/png": "[encoded data removed]",
      "text/plain": [
       "<Figure size 864x576 with 1 Axes>"
      ]
     },
     "metadata": {
      "needs_background": "light"
     },
     "output_type": "display_data"
    }
   ],
   "source": [
    "text2 = df_p[['POS']]\n",
    "new=pd.Series()\n",
    "\n",
    " #토큰화\n",
    "text2['POS'] = text2.apply(lambda row: nltk.word_tokenize(row['POS']), axis=1)\n",
    "\n",
    "#불용어 처리\n",
    "text2['POS'] = text2['POS'].apply(lambda x: [word.lower() for word in x])\n",
    "text2['POS'] = text2['POS'].apply(lambda x: [word for word in x if word not in (stop_words)])\n",
    "#표제어 추출\n",
    "text2['POS'] = text2['POS'].apply(lambda x : [WordNetLemmatizer().lemmatize(word, pos='v') for word in x])\n",
    "\n",
    "    \n",
    "#길이가 3이하인 단어에 대해서 제거하는 작업을 수행\n",
    "tokenized_doc = text2['POS'].apply(lambda x : [word for word in x if len(word) > 3])\n",
    "\n",
    "#바이그램\n",
    "for i in text2.index:\n",
    "    new=new.append( (pd.Series(nltk.ngrams(text2['POS'][i], 2)))  )\n",
    "k=new.value_counts()[:12]\n",
    "print(k)\n",
    "\n",
    "k.sort_values().plot.barh(color='blue', width=0.9, figsize=(12, 8))\n",
    "plt.title('positive keyword bi_gram ')\n",
    "plt.ylabel('Bigram')\n",
    "plt.xlabel('# of Occurances')\n",
    " #tf-idf 행렬을 만들기 위해 역토큰화\n",
    "detokenized_doc = []\n",
    "for i in range(len(text2)):\n",
    "    t = ' '.join(tokenized_doc[i])\n",
    "    detokenized_doc.append(t)\n",
    "    \n",
    "text2['POS'] = detokenized_doc\n"
   ]
  },
  {
   "cell_type": "code",
   "execution_count": 343,
   "metadata": {},
   "outputs": [
    {
     "data": {
      "text/plain": [
       "\"from nltk.stem import WordNetLemmatizer\\nnew=pd.Series()\\nk=pd.Series()\\ndef preprocess(df, stop_words):\\n    text = df_p[['POS']]\\n\\n    #토큰화\\n    text['POS'] = text.apply(lambda row: nltk.word_tokenize(row['POS']), axis=1)\\n\\n    #불용어 처리\\n    text['POS'] = text['POS'].apply(lambda x: [word.lower() for word in x])\\n    text['POS'] = text['POS'].apply(lambda x: [word for word in x if word not in (stop_words)])\\n\\n    #표제어 추출\\n    text['POS'] = text['POS'].apply(lambda x : [WordNetLemmatizer().lemmatize(word, pos='v') for word in x])\\n    \\n    #길이가 3이하인 단어에 대해서 제거하는 작업을 수행\\n    tokenized_doc = text['POS'].apply(lambda x : [word for word in x if len(word) > 3])\\n    #바이그램\\n    for i in text.index:\\n        new=new.append( (pd.Series(nltk.ngrams(text['POS'][i], 2)))  )\\n    k=new.value_counts()[:12]\\n    print(type(k))\\n    k.sort_values().plot.barh(color='blue', width=0.9, figsize=(12, 8))\\n    plt.title('positive keyword bi_gram ')\\n    plt.ylabel('Bigram')\\n    plt.xlabel('# of Occurances')\\n    \\n    #tf-idf 행렬을 만들기 위해 역토큰화\\n    detokenized_doc = []\\n    for i in range(len(text)):\\n        t = ' '.join(tokenized_doc[i])\\n        detokenized_doc.append(t)\\n    text['POS'] = detokenized_doc\\n    \\n    return text['POS']\""
      ]
     },
     "execution_count": 343,
     "metadata": {},
     "output_type": "execute_result"
    }
   ],
   "source": [
    "#LDA를 하기 위해 필요한 전처리들을 차례대로 진행하는 함수\n",
    "#LDA를 하기 위해 필요한 전처리들을 차례대로 진행하는 함수\n",
    "'''from nltk.stem import WordNetLemmatizer\n",
    "new=pd.Series()\n",
    "k=pd.Series()\n",
    "def preprocess(df, stop_words):\n",
    "    text = df_p[['POS']]\n",
    "\n",
    "    #토큰화\n",
    "    text['POS'] = text.apply(lambda row: nltk.word_tokenize(row['POS']), axis=1)\n",
    "\n",
    "    #불용어 처리\n",
    "    text['POS'] = text['POS'].apply(lambda x: [word.lower() for word in x])\n",
    "    text['POS'] = text['POS'].apply(lambda x: [word for word in x if word not in (stop_words)])\n",
    "\n",
    "    #표제어 추출\n",
    "    text['POS'] = text['POS'].apply(lambda x : [WordNetLemmatizer().lemmatize(word, pos='v') for word in x])\n",
    "    \n",
    "    #길이가 3이하인 단어에 대해서 제거하는 작업을 수행\n",
    "    tokenized_doc = text['POS'].apply(lambda x : [word for word in x if len(word) > 3])\n",
    "    #바이그램\n",
    "    for i in text.index:\n",
    "        new=new.append( (pd.Series(nltk.ngrams(text['POS'][i], 2)))  )\n",
    "    k=new.value_counts()[:12]\n",
    "    print(type(k))\n",
    "    k.sort_values().plot.barh(color='blue', width=0.9, figsize=(12, 8))\n",
    "    plt.title('positive keyword bi_gram ')\n",
    "    plt.ylabel('Bigram')\n",
    "    plt.xlabel('# of Occurances')\n",
    "    \n",
    "    #tf-idf 행렬을 만들기 위해 역토큰화\n",
    "    detokenized_doc = []\n",
    "    for i in range(len(text)):\n",
    "        t = ' '.join(tokenized_doc[i])\n",
    "        detokenized_doc.append(t)\n",
    "    text['POS'] = detokenized_doc\n",
    "    \n",
    "    return text['POS']'''"
   ]
  },
  {
   "cell_type": "code",
   "execution_count": 344,
   "metadata": {},
   "outputs": [],
   "source": [
    "#LDA를 진행하는 함수\n",
    "from sklearn.feature_extraction.text import TfidfVectorizer\n",
    "from sklearn.decomposition import LatentDirichletAllocation\n",
    "\n",
    "\n",
    "def LDA(series, n_components=4, n_words=10):\n",
    "    \n",
    "    #LDA를 적용하기 위해 tf-idf 행렬 만들기\n",
    "    vectorizer = TfidfVectorizer(stop_words='english')\n",
    "    X = vectorizer.fit_transform(series)\n",
    "    \n",
    "    #토픽 모델링 - 잠재디리클레할당\n",
    "    lda_model = LatentDirichletAllocation(n_components=n_components, learning_method='online', random_state=777, max_iter=1)\n",
    "    lda_top = lda_model.fit_transform(X)\n",
    "    \n",
    "    #term : 문서 내 모든 단어의 집합.\n",
    "    terms = vectorizer.get_feature_names()\n",
    "    \n",
    "    #모델로부터 얻은 토픽과 그 tf-idf값을 반환받음.\n",
    "    topics = []\n",
    "    for idx, topic in enumerate(lda_model.components_):\n",
    "        print(\"Topic %d :\" % (idx+1), [(terms[i], topic[i].round(2)) for i in topic.argsort()[:-n_words -1:-1]])\n",
    "        topics.append([(terms[i]) for i in topic.argsort()[:-n_words -1:-1]])\n",
    "    \n",
    "    #결과물을 보기 좋게 데이터 프레임으로 출력.\n",
    "    return topics"
   ]
  },
  {
   "cell_type": "code",
   "execution_count": 345,
   "metadata": {},
   "outputs": [
    {
     "name": "stdout",
     "output_type": "stream",
     "text": [
      "Topic 1 : [('holiday', 1.57), ('magical', 1.56), ('shop', 1.41), ('free', 1.27), ('world', 1.18), ('duty', 1.13), ('experience', 1.08), ('media', 1.03), ('thank', 1.02), ('great', 1.0)]\n",
      "Topic 2 : [('good', 4.56), ('like', 4.55), ('kind', 1.61), ('park', 1.42), ('store', 1.36), ('gorgeous', 1.23), ('hotple', 1.2), ('christmas', 1.19), ('steam', 1.17), ('faade', 1.15)]\n",
      "Topic 3 : [('nice', 2.02), ('night', 1.87), ('view', 1.49), ('place', 1.24), ('beautiful', 1.23), ('best', 1.23), ('wonderful', 1.21), ('luxury', 1.18), ('solve', 1.14), ('attractions', 1.11)]\n",
      "Topic 4 : [('pretty', 2.01), ('beautifully', 1.24), ('good', 1.24), ('colorful', 1.19), ('light', 1.17), ('background', 1.12), ('store', 1.08), ('awesome', 1.07), ('okay', 1.06), ('like', 1.04)]\n",
      "Topic 5 : [('food', 1.71), ('good', 1.61), ('friendly', 1.54), ('delicious', 1.32), ('clean', 1.21), ('year', 1.09), ('splendor', 1.08), ('love', 1.07), ('shop', 1.05), ('happy', 1.02)]\n",
      "Topic 6 : [('pretty', 2.45), ('store', 1.52), ('shinsegae', 1.46), ('department', 1.33), ('season', 1.3), ('christmas', 1.28), ('decoration', 1.23), ('satisfy', 1.21), ('heal', 1.17), ('year', 1.12)]\n",
      "Topic 7 : [('best', 1.86), ('great', 1.54), ('beautiful', 1.5), ('enjoy', 1.39), ('christmas', 1.39), ('mood', 1.37), ('store', 1.27), ('seoul', 1.25), ('department', 1.25), ('photos', 1.14)]\n",
      "Topic 8 : [('cool', 1.84), ('beauty', 1.25), ('beautiful', 1.15), ('light', 1.12), ('highly', 1.05), ('neat', 1.03), ('screen', 1.03), ('outside', 1.01), ('recommend', 1.0), ('convenient', 1.0)]\n",
      "Topic 9 : [('department', 1.58), ('store', 1.49), ('pleasant', 1.36), ('place', 1.21), ('christmas', 1.21), ('2021', 1.19), ('best', 1.18), ('present', 1.17), ('environment', 1.14), ('good', 1.14)]\n"
     ]
    },
    {
     "data": {
      "text/plain": [
       "['holiday',\n",
       " 'magical',\n",
       " 'shop',\n",
       " 'free',\n",
       " 'world',\n",
       " 'duty',\n",
       " 'experience',\n",
       " 'media',\n",
       " 'thank',\n",
       " 'great']"
      ]
     },
     "execution_count": 345,
     "metadata": {},
     "output_type": "execute_result"
    }
   ],
   "source": [
    "national_museum = LDA(text2[\"POS\"], 9, 10)\n",
    "national_museum[0]\n",
    "#print(k)"
   ]
  },
  {
   "cell_type": "code",
   "execution_count": null,
   "metadata": {},
   "outputs": [],
   "source": []
  }
 ],
 "metadata": {
  "kernelspec": {
   "display_name": "Python 3",
   "language": "python",
   "name": "python3"
  },
  "language_info": {
   "codemirror_mode": {
    "name": "ipython",
    "version": 3
   },
   "file_extension": ".py",
   "mimetype": "text/x-python",
   "name": "python",
   "nbconvert_exporter": "python",
   "pygments_lexer": "ipython3",
   "version": "3.8.3"
  }
 },
 "nbformat": 4,
 "nbformat_minor": 4
}
